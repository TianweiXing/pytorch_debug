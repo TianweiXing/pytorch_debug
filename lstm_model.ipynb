{
 "cells": [
  {
   "cell_type": "code",
   "execution_count": 1,
   "metadata": {},
   "outputs": [],
   "source": [
    "%load_ext autoreload\n",
    "%autoreload 2"
   ]
  },
  {
   "cell_type": "code",
   "execution_count": 2,
   "metadata": {},
   "outputs": [],
   "source": [
    "import os\n",
    "os.environ[\"CUDA_DEVICE_ORDER\"]=\"PCI_BUS_ID\";\n",
    "os.environ[\"CUDA_VISIBLE_DEVICES\"]=\"1\";  "
   ]
  },
  {
   "cell_type": "code",
   "execution_count": 5,
   "metadata": {},
   "outputs": [],
   "source": [
    "from torchsummary import summary\n",
    "\n",
    "import sys\n",
    "import pickle\n",
    "from collections import Counter\n",
    "\n",
    "import numpy as np\n",
    "import torch\n",
    "from torch import nn\n",
    "from torch import optim\n",
    "from torch.utils.data import DataLoader\n",
    "from tqdm import tqdm\n",
    "\n",
    "# from dataset import CLEVR, collate_data, transform\n",
    "# from model import MACNetwork"
   ]
  },
  {
   "cell_type": "code",
   "execution_count": 8,
   "metadata": {},
   "outputs": [
    {
     "name": "stdout",
     "output_type": "stream",
     "text": [
      "(400001, 300)\n",
      "Size of word embedding matrix:  (400001, 300)\n"
     ]
    }
   ],
   "source": [
    "import embedding as ebd\n",
    "embedding_matrix = ebd.load()\n",
    "print(embedding_matrix.shape)\n",
    "# embedding_matrix = ebd.load()\n",
    "print('Size of word embedding matrix: ',embedding_matrix.shape)\n",
    "num_words = 400001\n",
    "embedding_dim = 300\n",
    "seq_length = 31#data_q_valid.shape[1] \n",
    "\n",
    "num_hidden_lstm = 128\n",
    "output_dim =128\n",
    "dropout_rate = 0.5\n",
    "\n",
    "sen_dim = 77\n",
    "sen_win_len = 1800 \n",
    "sen_channel = 1\n",
    "num_feat_map = 64\n",
    "\n",
    "num_classes = 28#data_a_valid.shape[1]"
   ]
  },
  {
   "cell_type": "code",
   "execution_count": 9,
   "metadata": {},
   "outputs": [],
   "source": [
    "import torch.nn.functional as F\n",
    "\n",
    "class Net(nn.Module):\n",
    "\n",
    "    def __init__(self):\n",
    "        super(Net, self).__init__()\n",
    "        \n",
    "        self.embed = nn.Embedding(400001, 300)\n",
    "        # Embedding layer: loading weights\n",
    "        embedding_matrix = ebd.load()\n",
    "        print(embedding_matrix.shape)\n",
    "        self.embed.weight.data = torch.Tensor(embedding_matrix)\n",
    "        self.embed.weight.requires_grad = False\n",
    "        \n",
    "        self.lstm1 = nn.LSTM(300, 128, 1, batch_first=True)\n",
    "        self.lstm2 = nn.LSTM(128, 128, 1, batch_first=True)\n",
    "        \n",
    "        \n",
    "        self.fc1 = nn.Linear(128, 128)\n",
    "        self.fc2 = nn.Linear(128, 128)\n",
    "        self.fc3 = nn.Linear(128, 28)\n",
    "\n",
    "\n",
    "    def forward(self, question):\n",
    "        batch_size = question.size()[0]\n",
    "        \n",
    "        embed = self.embed(question)\n",
    "#         print(embed.shape)\n",
    "        lstm_out, _ = self.lstm1(embed)\n",
    "        lstm_out = F.dropout(lstm_out, 0.5)\n",
    "#         print(lstm_out.shape)\n",
    "        lstm_out, _ = self.lstm2(lstm_out)\n",
    "        lstm_out = F.dropout(lstm_out, 0.5)\n",
    "#         print(lstm_out.shape)\n",
    "        \n",
    "        x = lstm_out[:,-1]\n",
    "#         print(x.shape)\n",
    "        x = F.relu(self.fc1(x))\n",
    "        x = torch.tanh(self.fc2(x))\n",
    "        x = self.fc3(x)\n",
    "        return x"
   ]
  },
  {
   "cell_type": "code",
   "execution_count": 10,
   "metadata": {},
   "outputs": [
    {
     "name": "stdout",
     "output_type": "stream",
     "text": [
      "(400001, 300)\n"
     ]
    }
   ],
   "source": [
    "lstm_net = Net()"
   ]
  },
  {
   "cell_type": "code",
   "execution_count": 11,
   "metadata": {},
   "outputs": [
    {
     "data": {
      "text/plain": [
       "Net(\n",
       "  (embed): Embedding(400001, 300)\n",
       "  (lstm1): LSTM(300, 128, batch_first=True)\n",
       "  (lstm2): LSTM(128, 128, batch_first=True)\n",
       "  (fc1): Linear(in_features=128, out_features=128, bias=True)\n",
       "  (fc2): Linear(in_features=128, out_features=128, bias=True)\n",
       "  (fc3): Linear(in_features=128, out_features=28, bias=True)\n",
       ")"
      ]
     },
     "execution_count": 11,
     "metadata": {},
     "output_type": "execute_result"
    }
   ],
   "source": [
    "lstm_net"
   ]
  },
  {
   "cell_type": "code",
   "execution_count": 12,
   "metadata": {},
   "outputs": [],
   "source": [
    "x = torch.rand(11, 31)\n",
    "x = x.type(torch.LongTensor)"
   ]
  },
  {
   "cell_type": "code",
   "execution_count": 13,
   "metadata": {},
   "outputs": [
    {
     "data": {
      "text/plain": [
       "torch.Size([11, 28])"
      ]
     },
     "execution_count": 13,
     "metadata": {},
     "output_type": "execute_result"
    }
   ],
   "source": [
    "lstm_net(x).shape"
   ]
  },
  {
   "cell_type": "code",
   "execution_count": 14,
   "metadata": {},
   "outputs": [],
   "source": [
    "from torch.utils.data import DataLoader\n",
    "import torch\n",
    "from torch.utils import data\n",
    "\n",
    "class My_Data2(data.Dataset):\n",
    "    def __init__(self,  split='train', transform=None):\n",
    "        \n",
    "        processed_test_data_path = 'test_data.npz'\n",
    "    \n",
    "        npzfile = np.load(processed_test_data_path)\n",
    "#         print(npzfile.files)\n",
    "#         self.data_s_split = npzfile['s_' + split]#$[3011:3031]\n",
    "        self.data_a_split = npzfile['a_' + split]#[3011:3031]\n",
    "        self.data_q_split = npzfile['q_' + split]#[3011:3031]\n",
    "        \n",
    "        # adjust dimension\n",
    "        self.data_a_split = self.data_a_split.argmax(1)\n",
    "#         self.data_s_split = np.expand_dims(self.data_s_split, -1)  \n",
    "#         self.data_s_split = np.swapaxes(self.data_s_split,1,2)\n",
    "#         self.data_s_split = np.expand_dims(self.data_s_split, -1)\n",
    "        self.split = split  # train or val\n",
    "\n",
    "    def __getitem__(self, index):\n",
    "#         data_s = self.data_s_split[index]\n",
    "        data_q = self.data_q_split[index]\n",
    "        data_a = self.data_a_split[index]\n",
    "        return data_q, len(data_q), data_a\n",
    "#         return data_s, data_q, len(data_q), data_a\n",
    "    \n",
    "    def __len__(self):\n",
    "        return len(self.data_a_split)"
   ]
  },
  {
   "cell_type": "code",
   "execution_count": null,
   "metadata": {},
   "outputs": [],
   "source": []
  },
  {
   "cell_type": "code",
   "execution_count": 15,
   "metadata": {},
   "outputs": [],
   "source": [
    "\n",
    "def train(epoch):\n",
    "#     clevr = CLEVR(sys.argv[1], transform=transform)\n",
    "    training_set = My_Data2(split='val')\n",
    "    train_set = DataLoader(\n",
    "        training_set, batch_size=batch_size, num_workers=1\n",
    "#         , collate_fn=collate_data\n",
    "    )\n",
    "\n",
    "    dataset = iter(train_set)\n",
    "    pbar = tqdm(dataset)\n",
    "    moving_loss = 0\n",
    "#     acc_accumulate = 0\n",
    "\n",
    "    net.train(True)\n",
    "    for iter_id, (question, q_len, answer) in enumerate(pbar):\n",
    "        \n",
    "#         image = image.type(torch.FloatTensor) # change data type: double to float\n",
    "        q_len = q_len.tolist()\n",
    "        question = question.type(torch.LongTensor)\n",
    "        \n",
    "        question, answer = (\n",
    "            question.to(device),\n",
    "            answer.to(device),\n",
    "        )\n",
    "\n",
    "        net.zero_grad()\n",
    "        output = net(question)\n",
    "        loss = criterion(output, answer)\n",
    "        loss.backward()\n",
    "        optimizer.step()\n",
    "        correct = output.detach().argmax(1) == answer\n",
    "        correct = torch.tensor(correct, dtype=torch.float32).sum() / batch_size\n",
    "        \n",
    "        # correct is the acc for current batch, moving_loss is the acc for previous batches\n",
    "        if moving_loss == 0:\n",
    "            moving_loss = correct\n",
    "        else:\n",
    "            moving_loss = (moving_loss * iter_id + correct)/(iter_id+1)\n",
    "#             moving_loss = moving_loss * 0.99 + correct * 0.01\n",
    "\n",
    "        pbar.set_description(\n",
    "            'Epoch: {}; Loss: {:.5f}; Current_Acc: {:.5f}; Total_Acc: {:.5f}'.format(\n",
    "                epoch + 1, loss.item(), correct, moving_loss\n",
    "            )\n",
    "        )\n",
    "\n",
    "\n",
    "\n",
    "def valid(epoch):\n",
    "#     clevr = CLEVR(sys.argv[1], 'val', transform=None)\n",
    "    training_set = My_Data2(split='val')\n",
    "    valid_set = DataLoader(\n",
    "        training_set, batch_size=batch_size, num_workers=1\n",
    "#         , collate_fn=collate_data\n",
    "    )\n",
    "    \n",
    "    dataset = iter(valid_set)\n",
    "\n",
    "    net.train(False)\n",
    "    family_correct = Counter()\n",
    "    family_total = Counter()\n",
    "    loss_total = 0\n",
    "    \n",
    "    with torch.no_grad():\n",
    "        for  question, q_len, answer in tqdm(dataset):\n",
    "            \n",
    "            family = [1]*len(question)\n",
    "#             image = image.type(torch.FloatTensor) # change data type: double to float\n",
    "            q_len = q_len.tolist()\n",
    "            question = question.type(torch.LongTensor)\n",
    "            \n",
    "            question = question.to(device)\n",
    "\n",
    "            output = net(question)\n",
    "            loss = criterion(output, answer.to(device))\n",
    "            \n",
    "            loss_total = loss_total + loss\n",
    "            correct = output.detach().argmax(1) == answer.to(device)\n",
    "            for c, fam in zip(correct, family):\n",
    "                if c:\n",
    "                    family_correct[fam] += 1\n",
    "                family_total[fam] += 1\n",
    "                \n",
    "\n",
    "    print(\n",
    "        'Avg Acc: {:.5f}; Avg Loss: {:.5f}'.format(\n",
    "            sum(family_correct.values()) / sum(family_total.values()),\n",
    "            loss_total / sum(family_total.values())\n",
    "        )\n",
    "    )\n",
    "\n",
    "    print('%d / %d'%(sum(family_correct.values()), sum(family_total.values())))\n",
    "    return sum(family_correct.values()) / sum(family_total.values())\n",
    "\n"
   ]
  },
  {
   "cell_type": "code",
   "execution_count": 16,
   "metadata": {},
   "outputs": [],
   "source": [
    "batch_size = 64\n",
    "n_epoch = 20\n",
    "dim = 512\n",
    "\n",
    "device = torch.device('cuda' if torch.cuda.is_available() else 'cpu')"
   ]
  },
  {
   "cell_type": "code",
   "execution_count": 17,
   "metadata": {},
   "outputs": [
    {
     "name": "stdout",
     "output_type": "stream",
     "text": [
      "(400001, 300)\n"
     ]
    }
   ],
   "source": [
    "net = Net().to(device)\n",
    "# net_running = Net().to(device)\n",
    "# accumulate(net_running, net, 0)\n",
    "\n",
    "criterion = nn.CrossEntropyLoss()\n",
    "optimizer = optim.Adam(net.parameters(), lr=1e-3)"
   ]
  },
  {
   "cell_type": "code",
   "execution_count": null,
   "metadata": {},
   "outputs": [
    {
     "name": "stdout",
     "output_type": "stream",
     "text": [
      "==========0 epoch ==============\n"
     ]
    },
    {
     "name": "stderr",
     "output_type": "stream",
     "text": [
      "  0%|          | 0/320 [00:00<?, ?it/s]/home/tianwei/anaconda3/envs/tf_gpu/lib/python3.7/site-packages/ipykernel_launcher.py:32: UserWarning: To copy construct from a tensor, it is recommended to use sourceTensor.clone().detach() or sourceTensor.clone().detach().requires_grad_(True), rather than torch.tensor(sourceTensor).\n",
      "Epoch: 1; Loss: 0.68924; Current_Acc: 0.65625; Total_Acc: 0.58115: 100%|██████████| 320/320 [00:06<00:00, 48.68it/s]\n",
      "100%|██████████| 320/320 [00:01<00:00, 252.19it/s]"
     ]
    },
    {
     "name": "stdout",
     "output_type": "stream",
     "text": [
      "Avg Acc: 0.44164; Avg Loss: 0.02937\n",
      "9035 / 20458\n",
      "==========1 epoch ==============\n"
     ]
    },
    {
     "name": "stderr",
     "output_type": "stream",
     "text": [
      "\n",
      "Epoch: 2; Loss: 0.61528; Current_Acc: 0.65625; Total_Acc: 0.60791: 100%|██████████| 320/320 [00:06<00:00, 50.73it/s]\n",
      "100%|██████████| 320/320 [00:01<00:00, 267.06it/s]\n"
     ]
    },
    {
     "name": "stdout",
     "output_type": "stream",
     "text": [
      "Avg Acc: 0.44164; Avg Loss: 0.02912\n",
      "9035 / 20458\n",
      "==========2 epoch ==============\n"
     ]
    },
    {
     "name": "stderr",
     "output_type": "stream",
     "text": [
      "Epoch: 3; Loss: 0.70494; Current_Acc: 0.65625; Total_Acc: 0.66108: 100%|██████████| 320/320 [00:05<00:00, 53.70it/s]\n",
      "100%|██████████| 320/320 [00:01<00:00, 257.32it/s]"
     ]
    },
    {
     "name": "stdout",
     "output_type": "stream",
     "text": [
      "Avg Acc: 0.44159; Avg Loss: 0.02918\n",
      "9034 / 20458\n",
      "==========3 epoch ==============\n"
     ]
    },
    {
     "name": "stderr",
     "output_type": "stream",
     "text": [
      "\n",
      "Epoch: 4; Loss: 0.71520; Current_Acc: 0.65625; Total_Acc: 0.64106: 100%|██████████| 320/320 [00:06<00:00, 48.47it/s]\n",
      "100%|██████████| 320/320 [00:01<00:00, 247.98it/s]"
     ]
    },
    {
     "name": "stdout",
     "output_type": "stream",
     "text": [
      "Avg Acc: 0.44100; Avg Loss: 0.02862\n",
      "9022 / 20458\n",
      "==========4 epoch ==============\n"
     ]
    },
    {
     "name": "stderr",
     "output_type": "stream",
     "text": [
      "\n",
      "Epoch: 5; Loss: 0.78112; Current_Acc: 0.00000; Total_Acc: 0.64307: 100%|██████████| 320/320 [00:06<00:00, 51.39it/s]\n",
      "100%|██████████| 320/320 [00:01<00:00, 251.24it/s]"
     ]
    },
    {
     "name": "stdout",
     "output_type": "stream",
     "text": [
      "Avg Acc: 0.43191; Avg Loss: 0.02768\n",
      "8836 / 20458\n",
      "==========5 epoch ==============\n"
     ]
    },
    {
     "name": "stderr",
     "output_type": "stream",
     "text": [
      "\n",
      "Epoch: 6; Loss: 0.77929; Current_Acc: 0.00000; Total_Acc: 0.67930: 100%|██████████| 320/320 [00:06<00:00, 48.61it/s]\n",
      "100%|██████████| 320/320 [00:01<00:00, 255.67it/s]"
     ]
    },
    {
     "name": "stdout",
     "output_type": "stream",
     "text": [
      "Avg Acc: 0.44149; Avg Loss: 0.02803\n",
      "9032 / 20458\n",
      "==========6 epoch ==============\n"
     ]
    },
    {
     "name": "stderr",
     "output_type": "stream",
     "text": [
      "\n",
      "Epoch: 7; Loss: 0.75299; Current_Acc: 0.28125; Total_Acc: 0.69253: 100%|██████████| 320/320 [00:06<00:00, 52.22it/s]\n",
      "100%|██████████| 320/320 [00:01<00:00, 261.88it/s]\n"
     ]
    },
    {
     "name": "stdout",
     "output_type": "stream",
     "text": [
      "Avg Acc: 0.41993; Avg Loss: 0.02889\n",
      "8591 / 20458\n",
      "==========7 epoch ==============\n"
     ]
    },
    {
     "name": "stderr",
     "output_type": "stream",
     "text": [
      "Epoch: 8; Loss: 0.76685; Current_Acc: 0.00000; Total_Acc: 0.67725: 100%|██████████| 320/320 [00:06<00:00, 49.14it/s]\n",
      "100%|██████████| 320/320 [00:01<00:00, 256.81it/s]"
     ]
    },
    {
     "name": "stdout",
     "output_type": "stream",
     "text": [
      "Avg Acc: 0.44164; Avg Loss: 0.02894\n",
      "9035 / 20458\n",
      "==========8 epoch ==============\n"
     ]
    },
    {
     "name": "stderr",
     "output_type": "stream",
     "text": [
      "\n",
      "Epoch: 9; Loss: 0.75297; Current_Acc: 0.65625; Total_Acc: 0.65981: 100%|██████████| 320/320 [00:06<00:00, 48.22it/s]\n",
      "100%|██████████| 320/320 [00:01<00:00, 249.36it/s]"
     ]
    },
    {
     "name": "stdout",
     "output_type": "stream",
     "text": [
      "Avg Acc: 0.44164; Avg Loss: 0.02983\n",
      "9035 / 20458\n",
      "==========9 epoch ==============\n"
     ]
    },
    {
     "name": "stderr",
     "output_type": "stream",
     "text": [
      "\n",
      "Epoch: 10; Loss: 0.79379; Current_Acc: 0.00000; Total_Acc: 0.65400: 100%|██████████| 320/320 [00:06<00:00, 49.08it/s]\n",
      "100%|██████████| 320/320 [00:01<00:00, 260.98it/s]"
     ]
    },
    {
     "name": "stdout",
     "output_type": "stream",
     "text": [
      "Avg Acc: 0.31474; Avg Loss: 0.02857\n",
      "6439 / 20458\n",
      "==========10 epoch ==============\n"
     ]
    },
    {
     "name": "stderr",
     "output_type": "stream",
     "text": [
      "\n",
      "Epoch: 11; Loss: 0.79370; Current_Acc: 0.03125; Total_Acc: 0.64995: 100%|██████████| 320/320 [00:06<00:00, 53.25it/s]\n",
      "100%|██████████| 320/320 [00:01<00:00, 265.69it/s]\n"
     ]
    },
    {
     "name": "stdout",
     "output_type": "stream",
     "text": [
      "Avg Acc: 0.41754; Avg Loss: 0.02762\n",
      "8542 / 20458\n",
      "==========11 epoch ==============\n"
     ]
    },
    {
     "name": "stderr",
     "output_type": "stream",
     "text": [
      "Epoch: 12; Loss: 0.82809; Current_Acc: 0.00000; Total_Acc: 0.66182: 100%|██████████| 320/320 [00:06<00:00, 48.94it/s]\n",
      "100%|██████████| 320/320 [00:01<00:00, 250.80it/s]"
     ]
    },
    {
     "name": "stdout",
     "output_type": "stream",
     "text": [
      "Avg Acc: 0.31469; Avg Loss: 0.02860\n",
      "6438 / 20458\n",
      "==========12 epoch ==============\n"
     ]
    },
    {
     "name": "stderr",
     "output_type": "stream",
     "text": [
      "\n",
      "Epoch: 13; Loss: 0.74895; Current_Acc: 0.64062; Total_Acc: 0.64731: 100%|██████████| 320/320 [00:06<00:00, 48.44it/s]\n",
      "100%|██████████| 320/320 [00:01<00:00, 242.89it/s]"
     ]
    },
    {
     "name": "stdout",
     "output_type": "stream",
     "text": [
      "Avg Acc: 0.44164; Avg Loss: 0.02653\n",
      "9035 / 20458\n",
      "==========13 epoch ==============\n"
     ]
    },
    {
     "name": "stderr",
     "output_type": "stream",
     "text": [
      "\n",
      "Epoch: 14; Loss: 0.78386; Current_Acc: 0.00000; Total_Acc: 0.65630: 100%|██████████| 320/320 [00:06<00:00, 49.46it/s]\n",
      "100%|██████████| 320/320 [00:01<00:00, 258.53it/s]"
     ]
    },
    {
     "name": "stdout",
     "output_type": "stream",
     "text": [
      "Avg Acc: 0.43870; Avg Loss: 0.02883\n",
      "8975 / 20458\n",
      "==========14 epoch ==============\n"
     ]
    },
    {
     "name": "stderr",
     "output_type": "stream",
     "text": [
      "\n",
      "Epoch: 15; Loss: 0.76481; Current_Acc: 0.39062; Total_Acc: 0.65298: 100%|██████████| 320/320 [00:06<00:00, 48.74it/s]\n",
      "100%|██████████| 320/320 [00:01<00:00, 263.55it/s]\n"
     ]
    },
    {
     "name": "stdout",
     "output_type": "stream",
     "text": [
      "Avg Acc: 0.44193; Avg Loss: 0.02958\n",
      "9041 / 20458\n",
      "==========15 epoch ==============\n"
     ]
    },
    {
     "name": "stderr",
     "output_type": "stream",
     "text": [
      "Epoch: 16; Loss: 0.75691; Current_Acc: 0.65625; Total_Acc: 0.66260: 100%|██████████| 320/320 [00:05<00:00, 58.46it/s]\n",
      "100%|██████████| 320/320 [00:01<00:00, 253.74it/s]"
     ]
    },
    {
     "name": "stdout",
     "output_type": "stream",
     "text": [
      "Avg Acc: 0.44090; Avg Loss: 0.02988\n",
      "9020 / 20458\n",
      "==========16 epoch ==============\n"
     ]
    },
    {
     "name": "stderr",
     "output_type": "stream",
     "text": [
      "\n",
      "Epoch: 17; Loss: 0.75311; Current_Acc: 0.65625; Total_Acc: 0.64429: 100%|██████████| 320/320 [00:06<00:00, 51.30it/s]\n",
      "100%|██████████| 320/320 [00:01<00:00, 265.41it/s]\n"
     ]
    },
    {
     "name": "stdout",
     "output_type": "stream",
     "text": [
      "Avg Acc: 0.44115; Avg Loss: 0.02954\n",
      "9025 / 20458\n",
      "==========17 epoch ==============\n"
     ]
    },
    {
     "name": "stderr",
     "output_type": "stream",
     "text": [
      "Epoch: 18; Loss: 0.74524; Current_Acc: 0.65625; Total_Acc: 0.64707: 100%|██████████| 320/320 [00:06<00:00, 49.78it/s]\n",
      "100%|██████████| 320/320 [00:01<00:00, 268.57it/s]\n"
     ]
    },
    {
     "name": "stdout",
     "output_type": "stream",
     "text": [
      "Avg Acc: 0.44061; Avg Loss: 0.02927\n",
      "9014 / 20458\n",
      "==========18 epoch ==============\n"
     ]
    },
    {
     "name": "stderr",
     "output_type": "stream",
     "text": [
      "Epoch: 19; Loss: 0.75654; Current_Acc: 0.57812; Total_Acc: 0.64590: 100%|██████████| 320/320 [00:06<00:00, 49.47it/s]\n",
      "100%|██████████| 320/320 [00:01<00:00, 252.90it/s]"
     ]
    },
    {
     "name": "stdout",
     "output_type": "stream",
     "text": [
      "Avg Acc: 0.44012; Avg Loss: 0.02931\n",
      "9004 / 20458\n",
      "==========19 epoch ==============\n"
     ]
    },
    {
     "name": "stderr",
     "output_type": "stream",
     "text": [
      "\n",
      "Epoch: 20; Loss: 0.72170; Current_Acc: 0.65625; Total_Acc: 0.63843: 100%|██████████| 320/320 [00:06<00:00, 49.64it/s]\n",
      "100%|██████████| 320/320 [00:01<00:00, 254.46it/s]"
     ]
    },
    {
     "name": "stdout",
     "output_type": "stream",
     "text": [
      "Avg Acc: 0.44164; Avg Loss: 0.02888\n",
      "9035 / 20458\n",
      "==========20 epoch ==============\n"
     ]
    },
    {
     "name": "stderr",
     "output_type": "stream",
     "text": [
      "\n",
      "Epoch: 21; Loss: 0.76684; Current_Acc: 0.04688; Total_Acc: 0.66299: 100%|██████████| 320/320 [00:06<00:00, 48.73it/s]\n",
      "100%|██████████| 320/320 [00:01<00:00, 251.62it/s]"
     ]
    },
    {
     "name": "stdout",
     "output_type": "stream",
     "text": [
      "Avg Acc: 0.44159; Avg Loss: 0.02853\n",
      "9034 / 20458\n",
      "==========21 epoch ==============\n"
     ]
    },
    {
     "name": "stderr",
     "output_type": "stream",
     "text": [
      "\n",
      "Epoch: 22; Loss: 0.76640; Current_Acc: 0.00000; Total_Acc: 0.66274: 100%|██████████| 320/320 [00:06<00:00, 48.58it/s]\n",
      "100%|██████████| 320/320 [00:01<00:00, 270.99it/s]"
     ]
    },
    {
     "name": "stdout",
     "output_type": "stream",
     "text": [
      "Avg Acc: 0.43993; Avg Loss: 0.02931\n",
      "9000 / 20458\n",
      "==========22 epoch ==============\n"
     ]
    },
    {
     "name": "stderr",
     "output_type": "stream",
     "text": [
      "\n",
      "Epoch: 23; Loss: 0.73975; Current_Acc: 0.65625; Total_Acc: 0.66211: 100%|██████████| 320/320 [00:06<00:00, 48.89it/s]\n",
      "100%|██████████| 320/320 [00:01<00:00, 248.83it/s]"
     ]
    },
    {
     "name": "stdout",
     "output_type": "stream",
     "text": [
      "Avg Acc: 0.44164; Avg Loss: 0.03027\n",
      "9035 / 20458\n",
      "==========23 epoch ==============\n"
     ]
    },
    {
     "name": "stderr",
     "output_type": "stream",
     "text": [
      "\n",
      "Epoch: 24; Loss: 0.73198; Current_Acc: 0.65625; Total_Acc: 0.65059: 100%|██████████| 320/320 [00:06<00:00, 50.23it/s]\n",
      "100%|██████████| 320/320 [00:01<00:00, 251.75it/s]"
     ]
    },
    {
     "name": "stdout",
     "output_type": "stream",
     "text": [
      "Avg Acc: 0.44139; Avg Loss: 0.02901\n",
      "9030 / 20458\n",
      "==========24 epoch ==============\n"
     ]
    },
    {
     "name": "stderr",
     "output_type": "stream",
     "text": [
      "\n",
      "Epoch: 25; Loss: 0.73867; Current_Acc: 0.65625; Total_Acc: 0.65947: 100%|██████████| 320/320 [00:06<00:00, 48.95it/s]\n",
      "100%|██████████| 320/320 [00:01<00:00, 257.91it/s]"
     ]
    },
    {
     "name": "stdout",
     "output_type": "stream",
     "text": [
      "Avg Acc: 0.44188; Avg Loss: 0.02836\n",
      "9040 / 20458\n",
      "==========25 epoch ==============\n"
     ]
    },
    {
     "name": "stderr",
     "output_type": "stream",
     "text": [
      "\n",
      "Epoch: 26; Loss: 0.76023; Current_Acc: 0.57812; Total_Acc: 0.69619: 100%|██████████| 320/320 [00:06<00:00, 48.62it/s]\n",
      "100%|██████████| 320/320 [00:01<00:00, 274.49it/s]"
     ]
    },
    {
     "name": "stdout",
     "output_type": "stream",
     "text": [
      "Avg Acc: 0.43518; Avg Loss: 0.02940\n",
      "8903 / 20458\n",
      "==========26 epoch ==============\n"
     ]
    },
    {
     "name": "stderr",
     "output_type": "stream",
     "text": [
      "\n",
      "Epoch: 27; Loss: 0.73885; Current_Acc: 0.65625; Total_Acc: 0.68496: 100%|██████████| 320/320 [00:06<00:00, 50.49it/s]\n",
      "100%|██████████| 320/320 [00:01<00:00, 260.55it/s]\n"
     ]
    },
    {
     "name": "stdout",
     "output_type": "stream",
     "text": [
      "Avg Acc: 0.44169; Avg Loss: 0.02915\n",
      "9036 / 20458\n",
      "==========27 epoch ==============\n"
     ]
    },
    {
     "name": "stderr",
     "output_type": "stream",
     "text": [
      "Epoch: 28; Loss: 0.75228; Current_Acc: 0.60938; Total_Acc: 0.65557: 100%|██████████| 320/320 [00:06<00:00, 50.85it/s]\n",
      "100%|██████████| 320/320 [00:01<00:00, 244.98it/s]"
     ]
    },
    {
     "name": "stdout",
     "output_type": "stream",
     "text": [
      "Avg Acc: 0.44027; Avg Loss: 0.02975\n",
      "9007 / 20458\n",
      "==========28 epoch ==============\n"
     ]
    },
    {
     "name": "stderr",
     "output_type": "stream",
     "text": [
      "\n",
      "Epoch: 29; Loss: 0.75011; Current_Acc: 0.65625; Total_Acc: 0.64912: 100%|██████████| 320/320 [00:06<00:00, 48.99it/s]\n",
      "100%|██████████| 320/320 [00:01<00:00, 257.43it/s]"
     ]
    },
    {
     "name": "stdout",
     "output_type": "stream",
     "text": [
      "Avg Acc: 0.44164; Avg Loss: 0.02951\n",
      "9035 / 20458\n",
      "==========29 epoch ==============\n"
     ]
    },
    {
     "name": "stderr",
     "output_type": "stream",
     "text": [
      "\n",
      "Epoch: 30; Loss: 0.74434; Current_Acc: 0.65625; Total_Acc: 0.65395: 100%|██████████| 320/320 [00:06<00:00, 52.86it/s]\n",
      "100%|██████████| 320/320 [00:01<00:00, 255.29it/s]"
     ]
    },
    {
     "name": "stdout",
     "output_type": "stream",
     "text": [
      "Avg Acc: 0.44164; Avg Loss: 0.02947\n",
      "9035 / 20458\n",
      "==========30 epoch ==============\n"
     ]
    },
    {
     "name": "stderr",
     "output_type": "stream",
     "text": [
      "\n",
      "Epoch: 31; Loss: 0.74227; Current_Acc: 0.65625; Total_Acc: 0.64839: 100%|██████████| 320/320 [00:05<00:00, 56.34it/s]\n",
      "100%|██████████| 320/320 [00:01<00:00, 262.34it/s]\n"
     ]
    },
    {
     "name": "stdout",
     "output_type": "stream",
     "text": [
      "Avg Acc: 0.44164; Avg Loss: 0.02937\n",
      "9035 / 20458\n",
      "==========31 epoch ==============\n"
     ]
    },
    {
     "name": "stderr",
     "output_type": "stream",
     "text": [
      "Epoch: 32; Loss: 0.77967; Current_Acc: 0.45312; Total_Acc: 0.64136: 100%|██████████| 320/320 [00:06<00:00, 51.16it/s]\n",
      "100%|██████████| 320/320 [00:01<00:00, 243.54it/s]"
     ]
    },
    {
     "name": "stdout",
     "output_type": "stream",
     "text": [
      "Avg Acc: 0.43753; Avg Loss: 0.02769\n",
      "8951 / 20458\n",
      "==========32 epoch ==============\n"
     ]
    },
    {
     "name": "stderr",
     "output_type": "stream",
     "text": [
      "\n",
      "Epoch: 33; Loss: 0.78428; Current_Acc: 0.00000; Total_Acc: 0.66753: 100%|██████████| 320/320 [00:06<00:00, 48.96it/s]\n",
      "100%|██████████| 320/320 [00:01<00:00, 252.47it/s]"
     ]
    },
    {
     "name": "stdout",
     "output_type": "stream",
     "text": [
      "Avg Acc: 0.31455; Avg Loss: 0.02880\n",
      "6435 / 20458\n",
      "==========33 epoch ==============\n"
     ]
    },
    {
     "name": "stderr",
     "output_type": "stream",
     "text": [
      "\n",
      "Epoch: 34; Loss: 0.75379; Current_Acc: 0.65625; Total_Acc: 0.66309: 100%|██████████| 320/320 [00:06<00:00, 49.17it/s]\n",
      "100%|██████████| 320/320 [00:01<00:00, 246.48it/s]"
     ]
    },
    {
     "name": "stdout",
     "output_type": "stream",
     "text": [
      "Avg Acc: 0.44164; Avg Loss: 0.02965\n",
      "9035 / 20458\n",
      "==========34 epoch ==============\n"
     ]
    },
    {
     "name": "stderr",
     "output_type": "stream",
     "text": [
      "\n",
      "Epoch: 35; Loss: 0.74852; Current_Acc: 0.65625; Total_Acc: 0.64751: 100%|██████████| 320/320 [00:06<00:00, 48.90it/s]\n",
      "100%|██████████| 320/320 [00:01<00:00, 265.63it/s]\n"
     ]
    },
    {
     "name": "stdout",
     "output_type": "stream",
     "text": [
      "Avg Acc: 0.44164; Avg Loss: 0.02935\n",
      "9035 / 20458\n",
      "==========35 epoch ==============\n"
     ]
    },
    {
     "name": "stderr",
     "output_type": "stream",
     "text": [
      "Epoch: 36; Loss: 0.74562; Current_Acc: 0.65625; Total_Acc: 0.64746: 100%|██████████| 320/320 [00:06<00:00, 51.24it/s]\n",
      "100%|██████████| 320/320 [00:01<00:00, 262.78it/s]"
     ]
    },
    {
     "name": "stdout",
     "output_type": "stream",
     "text": [
      "Avg Acc: 0.44164; Avg Loss: 0.02931\n",
      "9035 / 20458\n",
      "==========36 epoch ==============\n"
     ]
    },
    {
     "name": "stderr",
     "output_type": "stream",
     "text": [
      "\n",
      "Epoch: 37; Loss: 0.74340; Current_Acc: 0.65625; Total_Acc: 0.64751: 100%|██████████| 320/320 [00:06<00:00, 49.37it/s]\n",
      "100%|██████████| 320/320 [00:01<00:00, 250.67it/s]"
     ]
    },
    {
     "name": "stdout",
     "output_type": "stream",
     "text": [
      "Avg Acc: 0.44164; Avg Loss: 0.02924\n",
      "9035 / 20458\n",
      "==========37 epoch ==============\n"
     ]
    },
    {
     "name": "stderr",
     "output_type": "stream",
     "text": [
      "\n",
      "Epoch: 38; Loss: 0.74232; Current_Acc: 0.65625; Total_Acc: 0.64751: 100%|██████████| 320/320 [00:06<00:00, 50.98it/s]\n",
      "100%|██████████| 320/320 [00:01<00:00, 258.06it/s]"
     ]
    },
    {
     "name": "stdout",
     "output_type": "stream",
     "text": [
      "Avg Acc: 0.44159; Avg Loss: 0.02923\n",
      "9034 / 20458\n",
      "==========38 epoch ==============\n"
     ]
    },
    {
     "name": "stderr",
     "output_type": "stream",
     "text": [
      "\n",
      "Epoch: 39; Loss: 0.73351; Current_Acc: 0.65625; Total_Acc: 0.64160: 100%|██████████| 320/320 [00:06<00:00, 48.69it/s]\n",
      "100%|██████████| 320/320 [00:01<00:00, 264.27it/s]\n"
     ]
    },
    {
     "name": "stdout",
     "output_type": "stream",
     "text": [
      "Avg Acc: 0.44159; Avg Loss: 0.02823\n",
      "9034 / 20458\n",
      "==========39 epoch ==============\n"
     ]
    },
    {
     "name": "stderr",
     "output_type": "stream",
     "text": [
      "Epoch: 40; Loss: 0.73591; Current_Acc: 0.65625; Total_Acc: 0.64336: 100%|██████████| 320/320 [00:06<00:00, 49.34it/s]\n",
      "100%|██████████| 320/320 [00:01<00:00, 258.04it/s]"
     ]
    },
    {
     "name": "stdout",
     "output_type": "stream",
     "text": [
      "Avg Acc: 0.44164; Avg Loss: 0.02841\n",
      "9035 / 20458\n",
      "==========40 epoch ==============\n"
     ]
    },
    {
     "name": "stderr",
     "output_type": "stream",
     "text": [
      "\n",
      "Epoch: 41; Loss: 0.75915; Current_Acc: 0.54688; Total_Acc: 0.66587: 100%|██████████| 320/320 [00:06<00:00, 49.30it/s]\n",
      "100%|██████████| 320/320 [00:01<00:00, 261.04it/s]"
     ]
    },
    {
     "name": "stdout",
     "output_type": "stream",
     "text": [
      "Avg Acc: 0.44037; Avg Loss: 0.02823\n",
      "9009 / 20458\n",
      "==========41 epoch ==============\n"
     ]
    },
    {
     "name": "stderr",
     "output_type": "stream",
     "text": [
      "\n",
      "Epoch: 42; Loss: 0.72536; Current_Acc: 0.51562; Total_Acc: 0.64248: 100%|██████████| 320/320 [00:06<00:00, 48.95it/s]\n",
      "100%|██████████| 320/320 [00:01<00:00, 256.10it/s]"
     ]
    },
    {
     "name": "stdout",
     "output_type": "stream",
     "text": [
      "Avg Acc: 0.43870; Avg Loss: 0.02770\n",
      "8975 / 20458\n",
      "==========42 epoch ==============\n"
     ]
    },
    {
     "name": "stderr",
     "output_type": "stream",
     "text": [
      "\n",
      "Epoch: 43; Loss: 0.75224; Current_Acc: 0.62500; Total_Acc: 0.65698: 100%|██████████| 320/320 [00:06<00:00, 50.29it/s]\n",
      "100%|██████████| 320/320 [00:01<00:00, 272.41it/s]"
     ]
    },
    {
     "name": "stdout",
     "output_type": "stream",
     "text": [
      "Avg Acc: 0.44090; Avg Loss: 0.02863\n",
      "9020 / 20458\n",
      "==========43 epoch ==============\n"
     ]
    },
    {
     "name": "stderr",
     "output_type": "stream",
     "text": [
      "\n",
      "Epoch: 44; Loss: 0.76700; Current_Acc: 0.00000; Total_Acc: 0.65698: 100%|██████████| 320/320 [00:06<00:00, 51.48it/s]\n",
      "100%|██████████| 320/320 [00:01<00:00, 254.34it/s]"
     ]
    },
    {
     "name": "stdout",
     "output_type": "stream",
     "text": [
      "Avg Acc: 0.44041; Avg Loss: 0.02951\n",
      "9010 / 20458\n",
      "==========44 epoch ==============\n"
     ]
    },
    {
     "name": "stderr",
     "output_type": "stream",
     "text": [
      "\n",
      "Epoch: 45; Loss: 0.83050; Current_Acc: 0.10938; Total_Acc: 0.65420: 100%|██████████| 320/320 [00:06<00:00, 49.17it/s]\n",
      "100%|██████████| 320/320 [00:01<00:00, 258.91it/s]"
     ]
    },
    {
     "name": "stdout",
     "output_type": "stream",
     "text": [
      "Avg Acc: 0.42810; Avg Loss: 0.02961\n",
      "8758 / 20458\n",
      "==========45 epoch ==============\n"
     ]
    },
    {
     "name": "stderr",
     "output_type": "stream",
     "text": [
      "\n",
      "Epoch: 46; Loss: 0.77865; Current_Acc: 0.00000; Total_Acc: 0.66270: 100%|██████████| 320/320 [00:06<00:00, 52.68it/s]\n",
      "100%|██████████| 320/320 [00:01<00:00, 262.53it/s]\n"
     ]
    },
    {
     "name": "stdout",
     "output_type": "stream",
     "text": [
      "Avg Acc: 0.39535; Avg Loss: 0.02932\n",
      "8088 / 20458\n",
      "==========46 epoch ==============\n"
     ]
    },
    {
     "name": "stderr",
     "output_type": "stream",
     "text": [
      "Epoch: 47; Loss: 0.81132; Current_Acc: 0.00000; Total_Acc: 0.67451: 100%|██████████| 320/320 [00:06<00:00, 49.04it/s]\n",
      "100%|██████████| 320/320 [00:01<00:00, 253.64it/s]"
     ]
    },
    {
     "name": "stdout",
     "output_type": "stream",
     "text": [
      "Avg Acc: 0.31469; Avg Loss: 0.02849\n",
      "6438 / 20458\n",
      "==========47 epoch ==============\n"
     ]
    },
    {
     "name": "stderr",
     "output_type": "stream",
     "text": [
      "\n",
      "Epoch: 48; Loss: 0.76457; Current_Acc: 0.00000; Total_Acc: 0.65356: 100%|██████████| 320/320 [00:06<00:00, 52.04it/s]\n",
      "100%|██████████| 320/320 [00:01<00:00, 260.08it/s]"
     ]
    },
    {
     "name": "stdout",
     "output_type": "stream",
     "text": [
      "Avg Acc: 0.43577; Avg Loss: 0.02856\n",
      "8915 / 20458\n",
      "==========48 epoch ==============\n"
     ]
    },
    {
     "name": "stderr",
     "output_type": "stream",
     "text": [
      "\n",
      "Epoch: 49; Loss: 0.76571; Current_Acc: 0.03125; Total_Acc: 0.66167: 100%|██████████| 320/320 [00:06<00:00, 49.57it/s]\n",
      "100%|██████████| 320/320 [00:01<00:00, 258.94it/s]"
     ]
    },
    {
     "name": "stdout",
     "output_type": "stream",
     "text": [
      "Avg Acc: 0.43577; Avg Loss: 0.02884\n",
      "8915 / 20458\n",
      "==========49 epoch ==============\n"
     ]
    },
    {
     "name": "stderr",
     "output_type": "stream",
     "text": [
      "\n",
      "Epoch: 50; Loss: 0.78253; Current_Acc: 0.00000; Total_Acc: 0.65913: 100%|██████████| 320/320 [00:06<00:00, 48.61it/s]\n",
      "100%|██████████| 320/320 [00:01<00:00, 254.20it/s]"
     ]
    },
    {
     "name": "stdout",
     "output_type": "stream",
     "text": [
      "Avg Acc: 0.43646; Avg Loss: 0.02894\n",
      "8929 / 20458\n",
      "==========50 epoch ==============\n"
     ]
    },
    {
     "name": "stderr",
     "output_type": "stream",
     "text": [
      "\n",
      "Epoch: 51; Loss: 0.76330; Current_Acc: 0.56250; Total_Acc: 0.66870: 100%|██████████| 320/320 [00:06<00:00, 50.24it/s]\n",
      "100%|██████████| 320/320 [00:01<00:00, 267.18it/s]\n"
     ]
    },
    {
     "name": "stdout",
     "output_type": "stream",
     "text": [
      "Avg Acc: 0.43953; Avg Loss: 0.02943\n",
      "8992 / 20458\n",
      "==========51 epoch ==============\n"
     ]
    },
    {
     "name": "stderr",
     "output_type": "stream",
     "text": [
      "Epoch: 52; Loss: 0.78113; Current_Acc: 0.04688; Total_Acc: 0.65864: 100%|██████████| 320/320 [00:06<00:00, 49.06it/s]\n",
      "100%|██████████| 320/320 [00:01<00:00, 260.91it/s]\n"
     ]
    },
    {
     "name": "stdout",
     "output_type": "stream",
     "text": [
      "Avg Acc: 0.43122; Avg Loss: 0.02900\n",
      "8822 / 20458\n",
      "==========52 epoch ==============\n"
     ]
    },
    {
     "name": "stderr",
     "output_type": "stream",
     "text": [
      "Epoch: 53; Loss: 0.75565; Current_Acc: 0.53125; Total_Acc: 0.65059: 100%|██████████| 320/320 [00:05<00:00, 57.98it/s]\n",
      "100%|██████████| 320/320 [00:01<00:00, 274.13it/s]"
     ]
    },
    {
     "name": "stdout",
     "output_type": "stream",
     "text": [
      "Avg Acc: 0.43450; Avg Loss: 0.02883\n",
      "8889 / 20458\n",
      "==========53 epoch ==============\n"
     ]
    },
    {
     "name": "stderr",
     "output_type": "stream",
     "text": [
      "\n",
      "Epoch: 54; Loss: 0.77072; Current_Acc: 0.46875; Total_Acc: 0.67461: 100%|██████████| 320/320 [00:06<00:00, 49.32it/s]\n",
      "100%|██████████| 320/320 [00:01<00:00, 248.73it/s]"
     ]
    },
    {
     "name": "stdout",
     "output_type": "stream",
     "text": [
      "Avg Acc: 0.43201; Avg Loss: 0.02886\n",
      "8838 / 20458\n",
      "==========54 epoch ==============\n"
     ]
    },
    {
     "name": "stderr",
     "output_type": "stream",
     "text": [
      "\n",
      "Epoch: 55; Loss: 0.78854; Current_Acc: 0.10938; Total_Acc: 0.65132: 100%|██████████| 320/320 [00:06<00:00, 49.18it/s]\n",
      "100%|██████████| 320/320 [00:01<00:00, 246.70it/s]"
     ]
    },
    {
     "name": "stdout",
     "output_type": "stream",
     "text": [
      "Avg Acc: 0.36489; Avg Loss: 0.02916\n",
      "7465 / 20458\n",
      "==========55 epoch ==============\n"
     ]
    },
    {
     "name": "stderr",
     "output_type": "stream",
     "text": [
      "\n",
      "Epoch: 56; Loss: 0.75458; Current_Acc: 0.64062; Total_Acc: 0.66211: 100%|██████████| 320/320 [00:06<00:00, 50.62it/s]\n",
      "100%|██████████| 320/320 [00:01<00:00, 261.61it/s]"
     ]
    },
    {
     "name": "stdout",
     "output_type": "stream",
     "text": [
      "Avg Acc: 0.44129; Avg Loss: 0.02938\n",
      "9028 / 20458\n",
      "==========56 epoch ==============\n"
     ]
    },
    {
     "name": "stderr",
     "output_type": "stream",
     "text": [
      "\n",
      "Epoch: 57; Loss: 0.77373; Current_Acc: 0.25000; Total_Acc: 0.66484: 100%|██████████| 320/320 [00:06<00:00, 52.08it/s]\n",
      "100%|██████████| 320/320 [00:01<00:00, 241.77it/s]"
     ]
    },
    {
     "name": "stdout",
     "output_type": "stream",
     "text": [
      "Avg Acc: 0.43958; Avg Loss: 0.02832\n",
      "8993 / 20458\n",
      "==========57 epoch ==============\n"
     ]
    },
    {
     "name": "stderr",
     "output_type": "stream",
     "text": [
      "\n",
      "Epoch: 58; Loss: 0.79295; Current_Acc: 0.00000; Total_Acc: 0.64849: 100%|██████████| 320/320 [00:06<00:00, 49.55it/s]\n",
      "100%|██████████| 320/320 [00:01<00:00, 260.84it/s]"
     ]
    },
    {
     "name": "stdout",
     "output_type": "stream",
     "text": [
      "Avg Acc: 0.31997; Avg Loss: 0.02913\n",
      "6546 / 20458\n",
      "==========58 epoch ==============\n"
     ]
    },
    {
     "name": "stderr",
     "output_type": "stream",
     "text": [
      "\n",
      "Epoch: 59; Loss: 0.76042; Current_Acc: 0.65625; Total_Acc: 0.66670: 100%|██████████| 320/320 [00:06<00:00, 51.15it/s]\n",
      "100%|██████████| 320/320 [00:01<00:00, 265.54it/s]\n"
     ]
    },
    {
     "name": "stdout",
     "output_type": "stream",
     "text": [
      "Avg Acc: 0.44154; Avg Loss: 0.02922\n",
      "9033 / 20458\n",
      "==========59 epoch ==============\n"
     ]
    },
    {
     "name": "stderr",
     "output_type": "stream",
     "text": [
      "Epoch: 60; Loss: 0.81059; Current_Acc: 0.04688; Total_Acc: 0.64985: 100%|██████████| 320/320 [00:06<00:00, 49.90it/s]\n",
      "100%|██████████| 320/320 [00:01<00:00, 255.22it/s]"
     ]
    },
    {
     "name": "stdout",
     "output_type": "stream",
     "text": [
      "Avg Acc: 0.36524; Avg Loss: 0.02822\n",
      "7472 / 20458\n",
      "==========60 epoch ==============\n"
     ]
    },
    {
     "name": "stderr",
     "output_type": "stream",
     "text": [
      "\n",
      "Epoch: 61; Loss: 0.75438; Current_Acc: 0.56250; Total_Acc: 0.66768: 100%|██████████| 320/320 [00:06<00:00, 49.81it/s]\n",
      "100%|██████████| 320/320 [00:01<00:00, 259.45it/s]\n"
     ]
    },
    {
     "name": "stdout",
     "output_type": "stream",
     "text": [
      "Avg Acc: 0.43768; Avg Loss: 0.02930\n",
      "8954 / 20458\n",
      "==========61 epoch ==============\n"
     ]
    },
    {
     "name": "stderr",
     "output_type": "stream",
     "text": [
      "Epoch: 62; Loss: 0.73811; Current_Acc: 0.64062; Total_Acc: 0.64951: 100%|██████████| 320/320 [00:06<00:00, 48.61it/s]\n",
      "100%|██████████| 320/320 [00:01<00:00, 269.65it/s]"
     ]
    },
    {
     "name": "stdout",
     "output_type": "stream",
     "text": [
      "Avg Acc: 0.44046; Avg Loss: 0.02938\n",
      "9011 / 20458\n",
      "==========62 epoch ==============\n"
     ]
    },
    {
     "name": "stderr",
     "output_type": "stream",
     "text": [
      "\n",
      "Epoch: 63; Loss: 0.74037; Current_Acc: 0.65625; Total_Acc: 0.65356: 100%|██████████| 320/320 [00:06<00:00, 52.63it/s]\n",
      "100%|██████████| 320/320 [00:01<00:00, 242.35it/s]\n"
     ]
    },
    {
     "name": "stdout",
     "output_type": "stream",
     "text": [
      "Avg Acc: 0.44105; Avg Loss: 0.02926\n",
      "9023 / 20458\n",
      "==========63 epoch ==============\n"
     ]
    },
    {
     "name": "stderr",
     "output_type": "stream",
     "text": [
      "Epoch: 64; Loss: 0.76739; Current_Acc: 0.15625; Total_Acc: 0.65435: 100%|██████████| 320/320 [00:06<00:00, 49.15it/s]\n",
      "100%|██████████| 320/320 [00:01<00:00, 261.38it/s]\n"
     ]
    },
    {
     "name": "stdout",
     "output_type": "stream",
     "text": [
      "Avg Acc: 0.43533; Avg Loss: 0.02833\n",
      "8906 / 20458\n",
      "==========64 epoch ==============\n"
     ]
    },
    {
     "name": "stderr",
     "output_type": "stream",
     "text": [
      "Epoch: 65; Loss: 0.75535; Current_Acc: 0.62500; Total_Acc: 0.66445: 100%|██████████| 320/320 [00:06<00:00, 51.51it/s]\n",
      "100%|██████████| 320/320 [00:01<00:00, 270.92it/s]"
     ]
    },
    {
     "name": "stdout",
     "output_type": "stream",
     "text": [
      "Avg Acc: 0.44095; Avg Loss: 0.02835\n",
      "9021 / 20458\n",
      "==========65 epoch ==============\n"
     ]
    },
    {
     "name": "stderr",
     "output_type": "stream",
     "text": [
      "\n",
      "Epoch: 66; Loss: 0.78754; Current_Acc: 0.00000; Total_Acc: 0.67114: 100%|██████████| 320/320 [00:06<00:00, 50.34it/s]\n",
      "100%|██████████| 320/320 [00:01<00:00, 252.94it/s]"
     ]
    },
    {
     "name": "stdout",
     "output_type": "stream",
     "text": [
      "Avg Acc: 0.35786; Avg Loss: 0.02866\n",
      "7321 / 20458\n",
      "==========66 epoch ==============\n"
     ]
    },
    {
     "name": "stderr",
     "output_type": "stream",
     "text": [
      "\n",
      "Epoch: 67; Loss: 0.74376; Current_Acc: 0.48438; Total_Acc: 0.68008: 100%|██████████| 320/320 [00:06<00:00, 49.17it/s]\n",
      "100%|██████████| 320/320 [00:01<00:00, 241.83it/s]\n"
     ]
    },
    {
     "name": "stdout",
     "output_type": "stream",
     "text": [
      "Avg Acc: 0.44105; Avg Loss: 0.02889\n",
      "9023 / 20458\n",
      "==========67 epoch ==============\n"
     ]
    },
    {
     "name": "stderr",
     "output_type": "stream",
     "text": [
      "Epoch: 68; Loss: 0.77063; Current_Acc: 0.31250; Total_Acc: 0.69097: 100%|██████████| 320/320 [00:06<00:00, 49.22it/s]\n",
      "100%|██████████| 320/320 [00:01<00:00, 255.39it/s]"
     ]
    },
    {
     "name": "stdout",
     "output_type": "stream",
     "text": [
      "Avg Acc: 0.38073; Avg Loss: 0.02787\n",
      "7789 / 20458\n",
      "==========68 epoch ==============\n"
     ]
    },
    {
     "name": "stderr",
     "output_type": "stream",
     "text": [
      "\n",
      "Epoch: 69; Loss: 0.78462; Current_Acc: 0.01562; Total_Acc: 0.65942: 100%|██████████| 320/320 [00:06<00:00, 50.99it/s]\n",
      "100%|██████████| 320/320 [00:01<00:00, 234.17it/s]"
     ]
    },
    {
     "name": "stdout",
     "output_type": "stream",
     "text": [
      "Avg Acc: 0.40361; Avg Loss: 0.03143\n",
      "8257 / 20458\n",
      "==========69 epoch ==============\n"
     ]
    },
    {
     "name": "stderr",
     "output_type": "stream",
     "text": [
      "\n",
      "Epoch: 70; Loss: 0.72269; Current_Acc: 0.62500; Total_Acc: 0.68042: 100%|██████████| 320/320 [00:06<00:00, 50.09it/s]\n",
      "100%|██████████| 320/320 [00:01<00:00, 265.40it/s]\n"
     ]
    },
    {
     "name": "stdout",
     "output_type": "stream",
     "text": [
      "Avg Acc: 0.43357; Avg Loss: 0.02880\n",
      "8870 / 20458\n",
      "==========70 epoch ==============\n"
     ]
    },
    {
     "name": "stderr",
     "output_type": "stream",
     "text": [
      "Epoch: 71; Loss: 0.67726; Current_Acc: 0.51562; Total_Acc: 0.71523: 100%|██████████| 320/320 [00:06<00:00, 53.29it/s]\n",
      "100%|██████████| 320/320 [00:01<00:00, 236.30it/s]"
     ]
    },
    {
     "name": "stdout",
     "output_type": "stream",
     "text": [
      "Avg Acc: 0.42345; Avg Loss: 0.03347\n",
      "8663 / 20458\n",
      "==========71 epoch ==============\n"
     ]
    },
    {
     "name": "stderr",
     "output_type": "stream",
     "text": [
      "\n",
      "Epoch: 72; Loss: 1.03372; Current_Acc: 0.00000; Total_Acc: 0.63887: 100%|██████████| 320/320 [00:06<00:00, 49.21it/s] \n",
      "100%|██████████| 320/320 [00:01<00:00, 247.00it/s]"
     ]
    },
    {
     "name": "stdout",
     "output_type": "stream",
     "text": [
      "Avg Acc: 0.31494; Avg Loss: 0.02937\n",
      "6443 / 20458\n",
      "==========72 epoch ==============\n"
     ]
    },
    {
     "name": "stderr",
     "output_type": "stream",
     "text": [
      "\n",
      "Epoch: 73; Loss: 0.87834; Current_Acc: 0.43750; Total_Acc: 0.67437: 100%|██████████| 320/320 [00:05<00:00, 54.10it/s]\n",
      "100%|██████████| 320/320 [00:01<00:00, 254.56it/s]"
     ]
    },
    {
     "name": "stdout",
     "output_type": "stream",
     "text": [
      "Avg Acc: 0.37052; Avg Loss: 0.03170\n",
      "7580 / 20458\n",
      "==========73 epoch ==============\n"
     ]
    },
    {
     "name": "stderr",
     "output_type": "stream",
     "text": [
      "\n",
      "Epoch: 74; Loss: 0.95399; Current_Acc: 0.00000; Total_Acc: 0.65112: 100%|██████████| 320/320 [00:06<00:00, 50.44it/s]\n",
      "100%|██████████| 320/320 [00:01<00:00, 257.63it/s]"
     ]
    },
    {
     "name": "stdout",
     "output_type": "stream",
     "text": [
      "Avg Acc: 0.31469; Avg Loss: 0.03043\n",
      "6438 / 20458\n",
      "==========74 epoch ==============\n"
     ]
    },
    {
     "name": "stderr",
     "output_type": "stream",
     "text": [
      "\n",
      "Epoch: 75; Loss: 0.78331; Current_Acc: 0.00000; Total_Acc: 0.63774: 100%|██████████| 320/320 [00:06<00:00, 49.00it/s]\n",
      "100%|██████████| 320/320 [00:01<00:00, 268.22it/s]"
     ]
    },
    {
     "name": "stdout",
     "output_type": "stream",
     "text": [
      "Avg Acc: 0.44134; Avg Loss: 0.02996\n",
      "9029 / 20458\n",
      "==========75 epoch ==============\n"
     ]
    },
    {
     "name": "stderr",
     "output_type": "stream",
     "text": [
      "\n",
      "Epoch: 76; Loss: 0.75081; Current_Acc: 0.26562; Total_Acc: 0.66016: 100%|██████████| 320/320 [00:06<00:00, 51.42it/s]\n",
      "100%|██████████| 320/320 [00:01<00:00, 249.17it/s]"
     ]
    },
    {
     "name": "stdout",
     "output_type": "stream",
     "text": [
      "Avg Acc: 0.43797; Avg Loss: 0.02900\n",
      "8960 / 20458\n",
      "==========76 epoch ==============\n"
     ]
    },
    {
     "name": "stderr",
     "output_type": "stream",
     "text": [
      "\n",
      "Epoch: 77; Loss: 0.01291; Current_Acc: 1.00000; Total_Acc: 0.62710:  82%|████████▏ | 261/320 [00:05<00:01, 49.09it/s]"
     ]
    }
   ],
   "source": [
    "acc_best = 0.0\n",
    "\n",
    "for epoch in range(100):\n",
    "# for epoch in range(n_epoch):\n",
    "    print('==========%d epoch =============='%(epoch))\n",
    "    train(epoch)\n",
    "    acc = valid(epoch) # inference on: validation dataset"
   ]
  },
  {
   "cell_type": "code",
   "execution_count": null,
   "metadata": {},
   "outputs": [],
   "source": []
  },
  {
   "cell_type": "code",
   "execution_count": null,
   "metadata": {},
   "outputs": [],
   "source": []
  },
  {
   "cell_type": "code",
   "execution_count": null,
   "metadata": {},
   "outputs": [],
   "source": []
  },
  {
   "cell_type": "code",
   "execution_count": 22,
   "metadata": {},
   "outputs": [
    {
     "name": "stdout",
     "output_type": "stream",
     "text": [
      "['s_train', 'q_train', 'a_train', 's_val', 'q_val', 'a_val', 'train_ind', 'valid_ind']\n",
      "\n",
      "Validation:\n",
      "Question matrix:  (20458, 31)\n",
      "Answer matrix:  (20458, 27)\n",
      "[9035. 6438. 1978. 1258.  285.   78.   91.   84.   34.  111.   95.   85.\n",
      "  102.  102.  103.   60.   96.  103.  152.   52.   42.   56.   18.    0.\n",
      "    0.    0.    0.]\n"
     ]
    }
   ],
   "source": [
    "import numpy as np\n",
    "processed_test_data_path = '../SQA_model/618_processed_data/s123_1800_600_split.npz'\n",
    "npzfile = np.load(processed_test_data_path)\n",
    "print(npzfile.files)\n",
    "\n",
    "# data_s_valid = npzfile['s_val']\n",
    "data_a_valid = npzfile['a_val']\n",
    "data_q_valid = npzfile['q_val']\n",
    "\n",
    "print('\\nValidation:')\n",
    "# print('Sensory matrix: ', data_s_valid.shape)\n",
    "print('Question matrix: ', data_q_valid.shape)\n",
    "print('Answer matrix: ', data_a_valid.shape)\n",
    "\n",
    "print(data_a_valid.sum(axis = 0))\n",
    "\n",
    "\n",
    "# np.savez('test_data.npz', s_val = data_s_valid,\n",
    "#                           q_val = data_q_valid,\n",
    "#                           a_val = data_a_valid)\n",
    "\n",
    "np.savez('test_data.npz', \n",
    "                          q_val = data_q_valid,\n",
    "                          a_val = data_a_valid)"
   ]
  },
  {
   "cell_type": "code",
   "execution_count": null,
   "metadata": {},
   "outputs": [],
   "source": []
  }
 ],
 "metadata": {
  "kernelspec": {
   "display_name": "tf_gpy",
   "language": "python",
   "name": "tf_gpy"
  },
  "language_info": {
   "codemirror_mode": {
    "name": "ipython",
    "version": 3
   },
   "file_extension": ".py",
   "mimetype": "text/x-python",
   "name": "python",
   "nbconvert_exporter": "python",
   "pygments_lexer": "ipython3",
   "version": "3.7.7"
  }
 },
 "nbformat": 4,
 "nbformat_minor": 4
}
